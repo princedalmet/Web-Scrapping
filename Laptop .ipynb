{
  "nbformat": 4,
  "nbformat_minor": 0,
  "metadata": {
    "colab": {
      "name": "Untitled21.ipynb",
      "provenance": [],
      "authorship_tag": "ABX9TyNTCMeCpvsT49GcxwPkzLq/",
      "include_colab_link": true
    },
    "kernelspec": {
      "name": "python3",
      "display_name": "Python 3"
    },
    "language_info": {
      "name": "python"
    }
  },
  "cells": [
    {
      "cell_type": "markdown",
      "metadata": {
        "id": "view-in-github",
        "colab_type": "text"
      },
      "source": [
        "<a href=\"https://colab.research.google.com/github/princetondalmet/Web-Scrapping/blob/main/Laptop%20.ipynb\" target=\"_parent\"><img src=\"https://colab.research.google.com/assets/colab-badge.svg\" alt=\"Open In Colab\"/></a>"
      ]
    },
    {
      "cell_type": "code",
      "source": [
        "import urllib.request\n",
        "from bs4 import BeautifulSoup\n",
        "from urllib.request import urlopen"
      ],
      "metadata": {
        "id": "-O0e-3l67jEC"
      },
      "execution_count": 2,
      "outputs": []
    },
    {
      "cell_type": "code",
      "source": [
        "url = \"https://www.flipkart.com/search?q=best%20laptops%20under%2080000&otracker=search&otracker1=search&marketplace=FLIPKART&as-show=on&as=off\""
      ],
      "metadata": {
        "id": "pecEHs4s7lV_"
      },
      "execution_count": 3,
      "outputs": []
    },
    {
      "cell_type": "code",
      "source": [
        "page = urlopen(url)\n",
        "page_html = page.read()\n",
        "page.close()\n",
        "page_soup = BeautifulSoup(page_html, \"html.parser\")"
      ],
      "metadata": {
        "id": "zUE9lCZv7nWm"
      },
      "execution_count": 4,
      "outputs": []
    },
    {
      "cell_type": "code",
      "source": [
        "containers = page_soup.findAll(\"div\", { \"class\": \"_2kHMtA\"})\n",
        "print(len(containers))"
      ],
      "metadata": {
        "colab": {
          "base_uri": "https://localhost:8080/"
        },
        "id": "05eCIaW57p2l",
        "outputId": "54935e89-2ae1-4c47-9068-5ab34a7f0c40"
      },
      "execution_count": 5,
      "outputs": [
        {
          "output_type": "stream",
          "name": "stdout",
          "text": [
            "40\n"
          ]
        }
      ]
    },
    {
      "cell_type": "code",
      "source": [
        "print(BeautifulSoup.prettify(containers[3]))"
      ],
      "metadata": {
        "colab": {
          "base_uri": "https://localhost:8080/"
        },
        "id": "CVBwi3zQ7tYh",
        "outputId": "d68e3e92-5c71-4a59-ff5c-3fb55568c0d8"
      },
      "execution_count": 6,
      "outputs": [
        {
          "output_type": "stream",
          "name": "stdout",
          "text": [
            "<div class=\"_2kHMtA\">\n",
            " <div class=\"_2tfzpE\">\n",
            "  <span>\n",
            "   Ad\n",
            "  </span>\n",
            " </div>\n",
            " <a class=\"_1fQZEK\" href=\"/hp-pavilion-ryzen-5-hexa-core-5600h-8-gb-512-gb-ssd-windows-11-home-4-graphics-nvidia-geforce-gtx-1650-144-hz-15-ec2004ax-gaming-laptop/p/itm98c94bbf9bc20?pid=COMG5GZXPWMGTNWS&amp;lid=LSTCOMG5GZXPWMGTNWS2SZL9C&amp;marketplace=FLIPKART&amp;q=best+laptops+under+80000&amp;store=search.flipkart.com&amp;srno=s_1_4&amp;otracker=search&amp;otracker1=search&amp;fm=organic&amp;iid=en_9P9Qkd24DlFAUTGazyCUwm5G5yY4dAM8eb9eVBEQTYXLdoaBpp4ctIMvonW6mWMECgX1JRIM4WxskvCLB9MYSQ%3D%3D&amp;ppt=None&amp;ppn=None&amp;ssid=yspokm00340000001648544889651&amp;qH=cdff68aec3053e4d\" rel=\"noopener noreferrer\" target=\"_blank\">\n",
            "  <div class=\"MIXNux\">\n",
            "   <div class=\"_2QcLo-\">\n",
            "    <div>\n",
            "     <div class=\"CXW8mj\" style=\"height:200px;width:200px\">\n",
            "      <img alt=\"HP Pavilion Ryzen 5 Hexa Core 5600H - (8 GB/512 GB SSD/Windows 11 Home/4 GB Graphics/NVIDIA GeForce GT...\" class=\"_396cs4 _3exPp9\" src=\"https://rukminim1.flixcart.com/image/312/312/kbqu4cw0/computer/q/x/r/hp-original-imaftyzachgrav8f.jpeg?q=70\"/>\n",
            "     </div>\n",
            "    </div>\n",
            "    <div class=\"_3G6awp\">\n",
            "     <span class=\"_192laR\">\n",
            "      Currently unavailable\n",
            "     </span>\n",
            "    </div>\n",
            "   </div>\n",
            "   <div class=\"_3wLduG\">\n",
            "    <div class=\"_3PzNI-\">\n",
            "     <span class=\"f3A4_V\">\n",
            "      <label class=\"_2iDkf8\">\n",
            "       <input class=\"_30VH1S\" readonly=\"\" type=\"checkbox\"/>\n",
            "       <div class=\"_24_Dny\">\n",
            "       </div>\n",
            "      </label>\n",
            "     </span>\n",
            "     <label class=\"_6Up2sF\">\n",
            "      <span>\n",
            "       Add to Compare\n",
            "      </span>\n",
            "     </label>\n",
            "    </div>\n",
            "   </div>\n",
            "   <div class=\"_2hVSre _3nq8ih\">\n",
            "    <div class=\"_36FSn5\">\n",
            "     <svg class=\"_1l0elc\" height=\"16\" viewbox=\"0 0 20 16\" width=\"16\" xmlns=\"http://www.w3.org/2000/svg\">\n",
            "      <path class=\"eX72wL\" d=\"M8.695 16.682C4.06 12.382 1 9.536 1 6.065 1 3.219 3.178 1 5.95 1c1.566 0 3.069.746 4.05 1.915C10.981 1.745 12.484 1 14.05 1 16.822 1 19 3.22 19 6.065c0 3.471-3.06 6.316-7.695 10.617L10 17.897l-1.305-1.215z\" fill=\"#2874F0\" fill-rule=\"evenodd\" opacity=\".9\" stroke=\"#FFF\">\n",
            "      </path>\n",
            "     </svg>\n",
            "    </div>\n",
            "   </div>\n",
            "  </div>\n",
            "  <div class=\"_3pLy-c row\">\n",
            "   <div class=\"col col-7-12\">\n",
            "    <div class=\"_4rR01T\">\n",
            "     HP Pavilion Ryzen 5 Hexa Core 5600H - (8 GB/512 GB SSD/Windows 11 Home/4 GB Graphics/NVIDIA GeForce GT...\n",
            "    </div>\n",
            "    <div class=\"gUuXy-\">\n",
            "     <span class=\"_1lRcqv\" id=\"productRating_LSTCOMG5GZXPWMGTNWS2SZL9C_COMG5GZXPWMGTNWS_\">\n",
            "      <div class=\"_3LWZlK\">\n",
            "       4.5\n",
            "       <img class=\"_1wB99o\" src=\"data:image/svg+xml;base64,PHN2ZyB4bWxucz0iaHR0cDovL3d3dy53My5vcmcvMjAwMC9zdmciIHdpZHRoPSIxMyIgaGVpZ2h0PSIxMiI+PHBhdGggZmlsbD0iI0ZGRiIgZD0iTTYuNSA5LjQzOWwtMy42NzQgMi4yMy45NC00LjI2LTMuMjEtMi44ODMgNC4yNTQtLjQwNEw2LjUuMTEybDEuNjkgNC4wMSA0LjI1NC40MDQtMy4yMSAyLjg4Mi45NCA0LjI2eiIvPjwvc3ZnPg==\"/>\n",
            "      </div>\n",
            "     </span>\n",
            "     <span class=\"_2_R_DZ\">\n",
            "      <span>\n",
            "       <span>\n",
            "        4,702 Ratings\n",
            "       </span>\n",
            "       <span class=\"_13vcmD\">\n",
            "        &amp;\n",
            "       </span>\n",
            "       <span>\n",
            "        527 Reviews\n",
            "       </span>\n",
            "      </span>\n",
            "     </span>\n",
            "    </div>\n",
            "    <div class=\"fMghEO\">\n",
            "     <ul class=\"_1xgFaf\">\n",
            "      <li class=\"rgWa7D\">\n",
            "       AMD Ryzen 5 Hexa Core Processor\n",
            "      </li>\n",
            "      <li class=\"rgWa7D\">\n",
            "       8 GB DDR4 RAM\n",
            "      </li>\n",
            "      <li class=\"rgWa7D\">\n",
            "       64 bit Windows 11 Operating System\n",
            "      </li>\n",
            "      <li class=\"rgWa7D\">\n",
            "       512 GB SSD\n",
            "      </li>\n",
            "      <li class=\"rgWa7D\">\n",
            "       39.62 cm (15.6 inch) Display\n",
            "      </li>\n",
            "      <li class=\"rgWa7D\">\n",
            "       HP Documentation, HP e-service, HP BIOS Recovery, HP SSRM, HP Smart, HP Jumpstarts\n",
            "      </li>\n",
            "      <li class=\"rgWa7D\">\n",
            "       1 Year Onsite Warranty\n",
            "      </li>\n",
            "     </ul>\n",
            "    </div>\n",
            "   </div>\n",
            "   <div class=\"col col-5-12 nlI3QM\">\n",
            "    <div class=\"_3tbKJL\">\n",
            "     <div class=\"_25b18c\">\n",
            "      <div class=\"_30jeq3 _1_WHN1\">\n",
            "       ₹59,940\n",
            "      </div>\n",
            "      <div class=\"_3I9_wc _27UcVY\">\n",
            "       ₹\n",
            "       <!-- -->\n",
            "       70,172\n",
            "      </div>\n",
            "      <div class=\"_3Ay6Sb\">\n",
            "       <span>\n",
            "        14% off\n",
            "       </span>\n",
            "      </div>\n",
            "     </div>\n",
            "     <div class=\"_3tcB5a p8ucoS\">\n",
            "      <div>\n",
            "       <div class=\"_2Tpdn3\" style=\"color:#000000;font-size:12px;font-style:normal;font-weight:400\">\n",
            "        Free delivery\n",
            "       </div>\n",
            "      </div>\n",
            "     </div>\n",
            "    </div>\n",
            "    <div class=\"_13J9qT\">\n",
            "     <img height=\"21\" src=\"//static-assets-web.flixcart.com/www/linchpin/fk-cp-zion/img/fa_62673a.png\"/>\n",
            "    </div>\n",
            "   </div>\n",
            "  </div>\n",
            " </a>\n",
            "</div>\n"
          ]
        }
      ]
    },
    {
      "cell_type": "code",
      "source": [
        "container = containers[4]\n",
        "prod_name = container.div.img[\"alt\"]\n",
        "print(prod_name)"
      ],
      "metadata": {
        "colab": {
          "base_uri": "https://localhost:8080/"
        },
        "id": "EgL9tagp7xZd",
        "outputId": "7cfc791e-fb06-42d5-b39a-4584770959a3"
      },
      "execution_count": 7,
      "outputs": [
        {
          "output_type": "stream",
          "name": "stdout",
          "text": [
            "MSI GF63 Thin Core i7 10th Gen - (16 GB/512 GB SSD/Windows 10 Home/4 GB Graphics/NVIDIA GeForce RTX 30...\n"
          ]
        }
      ]
    },
    {
      "cell_type": "code",
      "source": [
        "original_price = container.findAll(\"div\", {\"class\": \"_3I9_wc _27UcVY\"})\n",
        "print(original_price[0].text)"
      ],
      "metadata": {
        "colab": {
          "base_uri": "https://localhost:8080/"
        },
        "id": "G2ZFHWBX7yQE",
        "outputId": "c6d9a32b-38a1-4295-87eb-e418cefceae9"
      },
      "execution_count": 8,
      "outputs": [
        {
          "output_type": "stream",
          "name": "stdout",
          "text": [
            "₹95,990\n"
          ]
        }
      ]
    },
    {
      "cell_type": "code",
      "source": [
        "discount_percent = container.findAll(\"div\", {\"class\": \"_3Ay6Sb\"})\n",
        "print(discount_percent[0].text)"
      ],
      "metadata": {
        "colab": {
          "base_uri": "https://localhost:8080/"
        },
        "id": "MyADVNEk71to",
        "outputId": "f8aae930-cb4f-4582-e7b8-35a4ff6c18ad"
      },
      "execution_count": 9,
      "outputs": [
        {
          "output_type": "stream",
          "name": "stdout",
          "text": [
            "17% off\n"
          ]
        }
      ]
    },
    {
      "cell_type": "code",
      "source": [
        "discounted_price = container.findAll(\"div\", {\"class\": \"_30jeq3 _1_WHN1\"})\n",
        "print(discounted_price[0].text)"
      ],
      "metadata": {
        "colab": {
          "base_uri": "https://localhost:8080/"
        },
        "id": "dWy9pI1C73q3",
        "outputId": "f88fa013-2805-42bf-a7aa-97fa6368c1b0"
      },
      "execution_count": 10,
      "outputs": [
        {
          "output_type": "stream",
          "name": "stdout",
          "text": [
            "₹78,940\n"
          ]
        }
      ]
    },
    {
      "cell_type": "code",
      "source": [
        "prod_ratings = container.findAll(\"span\", {\"class\": \"_1lRcqv\"})\n",
        "print(prod_ratings[0].text)"
      ],
      "metadata": {
        "colab": {
          "base_uri": "https://localhost:8080/"
        },
        "id": "0s2Dh2tV74eM",
        "outputId": "f7812b4e-b52e-43bb-b410-e3f97ce69bf7"
      },
      "execution_count": 11,
      "outputs": [
        {
          "output_type": "stream",
          "name": "stdout",
          "text": [
            "4.5\n"
          ]
        }
      ]
    },
    {
      "cell_type": "code",
      "source": [
        "reviews = container.findAll(\"span\", {\"class\" : \"_2_R_DZ\"})\n",
        "print(reviews[0].text)"
      ],
      "metadata": {
        "colab": {
          "base_uri": "https://localhost:8080/"
        },
        "id": "8MFuHVI276eQ",
        "outputId": "3ce17a3d-c6b3-4068-b873-6ea75823aaf0"
      },
      "execution_count": 12,
      "outputs": [
        {
          "output_type": "stream",
          "name": "stdout",
          "text": [
            "479 Ratings & 55 Reviews\n"
          ]
        }
      ]
    },
    {
      "cell_type": "code",
      "source": [
        "for container in containers[:5]:\n",
        "    product_name = container.findAll(\"div\", {\"class\": \"_4rR01T\"})    \n",
        "    prod_name = product_name[0].text.strip()\n",
        "    \n",
        "    original_price = container.findAll(\"div\", {\"class\": \"_3I9_wc _27UcVY\"})\n",
        "    original = original_price[0].text.strip()\n",
        "    \n",
        "    discount_percent = container.findAll(\"div\", {\"class\": \"_3Ay6Sb\"})\n",
        "    percent = discount_percent[0].text.strip()\n",
        "    \n",
        "    discounted_price = container.findAll(\"div\", {\"class\": \"_30jeq3 _1_WHN1\"})\n",
        "    discount = discounted_price[0].text.strip()\n",
        "\n",
        "    rating_container = container.findAll(\"span\", {\"class\": \"_1lRcqv\"})\n",
        "    prod_rating = rating_container[0].text.strip()\n",
        "    \n",
        "    reviews_container = container.findAll(\"span\", {\"class\": \"_2_R_DZ\"})\n",
        "    reviews_rating = reviews_container[0].text\n",
        "    \n",
        "    print(\"\\033[1mProduct Name: \\n\"+ '\\033[0m'+ str(prod_name), \"\\n\"),\n",
        "    print(\"\\033[1mOriginal Price: \\n\"+ '\\033[0m'+ str(original), \"\\n\"),\n",
        "    print(\"\\033[1mDiscount Percentage: \\n\"+ '\\033[0m'+ str(percent), \"\\n\"),\n",
        "    print(\"\\033[1mDiscounted Price: \\n\"+ '\\033[0m'+ str(discount), \"\\n\"),\n",
        "    print(\"\\033[1mRatings: \\n\"+ '\\033[0m'+ prod_rating, \"\\n\"),\n",
        "    print(\"\\033[1mNumber of Reviews: \\n\"+ '\\033[0m'+ reviews_rating, \"\\n\"),\n",
        "    print(\"------------------------------------------------------------------------------------------------------------------\")"
      ],
      "metadata": {
        "colab": {
          "base_uri": "https://localhost:8080/"
        },
        "id": "u16lQMFP78lE",
        "outputId": "92e84b82-efe5-4156-abc9-153e6d4b84b6"
      },
      "execution_count": 13,
      "outputs": [
        {
          "output_type": "stream",
          "name": "stdout",
          "text": [
            "\u001b[1mProduct Name: \n",
            "\u001b[0mASUS ASUS TUF Gaming Core i5 11th Gen - (8 GB/1 TB SSD/Windows 10 Home/4 GB Graphics/NVIDIA GeForce RT... \n",
            "\n",
            "\u001b[1mOriginal Price: \n",
            "\u001b[0m₹1,16,990 \n",
            "\n",
            "\u001b[1mDiscount Percentage: \n",
            "\u001b[0m35% off \n",
            "\n",
            "\u001b[1mDiscounted Price: \n",
            "\u001b[0m₹75,940 \n",
            "\n",
            "\u001b[1mRatings: \n",
            "\u001b[0m4.5 \n",
            "\n",
            "\u001b[1mNumber of Reviews: \n",
            "\u001b[0m361 Ratings & 47 Reviews \n",
            "\n",
            "------------------------------------------------------------------------------------------------------------------\n",
            "\u001b[1mProduct Name: \n",
            "\u001b[0mASUS ASUS TUF Gaming A17 Ryzen 7 Octa Core 4800H - (16 GB/512 GB SSD/Windows 10 Home/4 GB Graphics/NVI... \n",
            "\n",
            "\u001b[1mOriginal Price: \n",
            "\u001b[0m₹1,06,990 \n",
            "\n",
            "\u001b[1mDiscount Percentage: \n",
            "\u001b[0m25% off \n",
            "\n",
            "\u001b[1mDiscounted Price: \n",
            "\u001b[0m₹79,940 \n",
            "\n",
            "\u001b[1mRatings: \n",
            "\u001b[0m4.8 \n",
            "\n",
            "\u001b[1mNumber of Reviews: \n",
            "\u001b[0m20 Ratings & 3 Reviews \n",
            "\n",
            "------------------------------------------------------------------------------------------------------------------\n",
            "\u001b[1mProduct Name: \n",
            "\u001b[0mHP Pavilion Gaming Ryzen 7 Octa Core 4800H - (16 GB/1 TB HDD/256 GB SSD/Windows 10 Home/4 GB Graphics/... \n",
            "\n",
            "\u001b[1mOriginal Price: \n",
            "\u001b[0m₹93,564 \n",
            "\n",
            "\u001b[1mDiscount Percentage: \n",
            "\u001b[0m18% off \n",
            "\n",
            "\u001b[1mDiscounted Price: \n",
            "\u001b[0m₹75,940 \n",
            "\n",
            "\u001b[1mRatings: \n",
            "\u001b[0m4.5 \n",
            "\n",
            "\u001b[1mNumber of Reviews: \n",
            "\u001b[0m1,075 Ratings & 120 Reviews \n",
            "\n",
            "------------------------------------------------------------------------------------------------------------------\n",
            "\u001b[1mProduct Name: \n",
            "\u001b[0mHP Pavilion Ryzen 5 Hexa Core 5600H - (8 GB/512 GB SSD/Windows 11 Home/4 GB Graphics/NVIDIA GeForce GT... \n",
            "\n",
            "\u001b[1mOriginal Price: \n",
            "\u001b[0m₹70,172 \n",
            "\n",
            "\u001b[1mDiscount Percentage: \n",
            "\u001b[0m14% off \n",
            "\n",
            "\u001b[1mDiscounted Price: \n",
            "\u001b[0m₹59,940 \n",
            "\n",
            "\u001b[1mRatings: \n",
            "\u001b[0m4.5 \n",
            "\n",
            "\u001b[1mNumber of Reviews: \n",
            "\u001b[0m4,702 Ratings & 527 Reviews \n",
            "\n",
            "------------------------------------------------------------------------------------------------------------------\n",
            "\u001b[1mProduct Name: \n",
            "\u001b[0mMSI GF63 Thin Core i7 10th Gen - (16 GB/512 GB SSD/Windows 10 Home/4 GB Graphics/NVIDIA GeForce RTX 30... \n",
            "\n",
            "\u001b[1mOriginal Price: \n",
            "\u001b[0m₹95,990 \n",
            "\n",
            "\u001b[1mDiscount Percentage: \n",
            "\u001b[0m17% off \n",
            "\n",
            "\u001b[1mDiscounted Price: \n",
            "\u001b[0m₹78,940 \n",
            "\n",
            "\u001b[1mRatings: \n",
            "\u001b[0m4.5 \n",
            "\n",
            "\u001b[1mNumber of Reviews: \n",
            "\u001b[0m479 Ratings & 55 Reviews \n",
            "\n",
            "------------------------------------------------------------------------------------------------------------------\n"
          ]
        }
      ]
    },
    {
      "cell_type": "code",
      "source": [
        ""
      ],
      "metadata": {
        "id": "W3hNMHC47_d2"
      },
      "execution_count": null,
      "outputs": []
    }
  ]
}